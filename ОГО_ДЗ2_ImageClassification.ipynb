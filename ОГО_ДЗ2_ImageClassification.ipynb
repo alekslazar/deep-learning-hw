{
  "cells": [
    {
      "cell_type": "markdown",
      "metadata": {
        "cell_id": 1,
        "id": "kr9vAeEQlRVG"
      },
      "source": [
        "# Домашнее задание 2. Классификация изображений."
      ]
    },
    {
      "cell_type": "markdown",
      "metadata": {
        "cell_id": 3,
        "id": "BxX49gLclRVJ"
      },
      "source": [
        "В этом задании потребуется обучить классификатор изображений. Будем работать с датасетом, название которого раскрывать не будем. Можете посмотреть самостоятельно на картинки, которые в есть датасете. В нём 200 классов и около 5 тысяч картинок на каждый класс. Классы пронумерованы, как нетрудно догадаться, от 0 до 199. Скачать датасет можно вот [тут](https://yadi.sk/d/BNR41Vu3y0c7qA).\n",
        "\n",
        "Структура датасета простая -- есть директории train/ и val/, в которых лежат обучающие и валидационные данные. В train/ и val/ лежат директориии, соответствующие классам изображений, в которых лежат, собственно, сами изображения.\n",
        "\n",
        "__Задание__. Необходимо выполнить два задания\n",
        "\n",
        "1) Добейтесь accuracy **на валидации не менее 0.44**. В этом задании **запрещено** пользоваться предобученными моделями и ресайзом картинок. 5 баллов\n",
        "\n",
        "2) Добейтесь accuracy **на валидации не менее 0.84**. В этом задании делать ресайз и использовать претрейн можно. 5 баллов\n",
        "\n",
        "Напишите краткий отчёт о проделанных экспериментах. Что сработало и что не сработало? Почему вы решили, сделать так, а не иначе? Обязательно указывайте ссылки на чужой код, если вы его используете. Обязательно ссылайтесь на статьи / блогпосты / вопросы на stackoverflow / видосы от ютуберов-машинлернеров / курсы / подсказки от Дяди Васи и прочие дополнительные материалы, если вы их используете.\n",
        "\n",
        "Ваш код обязательно должен проходить все `assert`'ы ниже.\n",
        "\n",
        "__Использовать внешние данные для обучения строго запрещено в обоих заданиях. Также запрещено обучаться на валидационной выборке__.\n",
        "\n",
        "\n",
        "__Критерии оценки__: Оценка вычисляется по простой формуле: `min(10, 10 * Ваша accuracy / 0.44)` для первого задания и `min(10, 10 * (Ваша accuracy - 0.5) / 0.34)` для второго. Оценка округляется до десятых по арифметическим правилам.\n",
        "\n",
        "\n",
        "__Советы и указания__:\n",
        " - Наверняка вам потребуется много гуглить о классификации и о том, как заставить её работать. Это нормально, все гуглят. Но не забывайте, что нужно быть готовым за скатанный код отвечать :)\n",
        " - Используйте аугментации. Для этого пользуйтесь модулем `torchvision.transforms` или библиотекой [albumentations](https://github.com/albumentations-team/albumentations)\n",
        " - Можно обучать с нуля или файнтюнить (в зависимости от задания) модели из `torchvision`.\n",
        " - Рекомендуем написать вам сначала класс-датасет (или воспользоваться классом `ImageFolder`), который возвращает картинки и соответствующие им классы, а затем функции для трейна по шаблонам ниже. Однако делать это мы не заставляем. Если вам так неудобно, то можете писать код в удобном стиле. Однако учтите, что чрезмерное изменение нижеперечисленных шаблонов увеличит количество вопросов к вашему коду и повысит вероятность вызова на защиту :)\n",
        " - Валидируйте. Трекайте ошибки как можно раньше, чтобы не тратить время впустую.\n",
        " - Чтобы быстро отладить код, пробуйте обучаться на маленькой части датасета (скажем, 5-10 картинок просто чтобы убедиться что код запускается). Когда вы поняли, что смогли всё отдебажить, переходите обучению по всему датасету\n",
        " - На каждый запуск делайте ровно одно изменение в модели/аугментации/оптимайзере, чтобы понять, что и как влияет на результат.\n",
        " - Фиксируйте random seed.\n",
        " - Начинайте с простых моделей и постепенно переходите к сложным. Обучение лёгких моделей экономит много времени.\n",
        " - Ставьте расписание на learning rate. Уменьшайте его, когда лосс на валидации перестаёт убывать.\n",
        " - Советуем использовать GPU. Если у вас его нет, используйте google colab. Если вам неудобно его использовать на постоянной основе, напишите и отладьте весь код локально на CPU, а затем запустите уже написанный ноутбук в колабе. Авторское решение задания достигает требуемой точности в колабе за 15 минут обучения.\n",
        "\n",
        "Good luck & have fun! :)"
      ]
    },
    {
      "cell_type": "code",
      "execution_count": 1,
      "metadata": {
        "id": "BaPSFxIz96tY",
        "colab": {
          "base_uri": "https://localhost:8080/"
        },
        "outputId": "e0cb538e-a12f-4127-9b74-8402d2d0ee14"
      },
      "outputs": [
        {
          "output_type": "stream",
          "name": "stdout",
          "text": [
            "Requirement already satisfied: pytorch_lightning in /usr/local/lib/python3.10/dist-packages (2.1.2)\n",
            "Requirement already satisfied: torchmetrics in /usr/local/lib/python3.10/dist-packages (1.2.0)\n",
            "Requirement already satisfied: numpy>=1.17.2 in /usr/local/lib/python3.10/dist-packages (from pytorch_lightning) (1.23.5)\n",
            "Requirement already satisfied: torch>=1.12.0 in /usr/local/lib/python3.10/dist-packages (from pytorch_lightning) (2.1.0+cu118)\n",
            "Requirement already satisfied: tqdm>=4.57.0 in /usr/local/lib/python3.10/dist-packages (from pytorch_lightning) (4.66.1)\n",
            "Requirement already satisfied: PyYAML>=5.4 in /usr/local/lib/python3.10/dist-packages (from pytorch_lightning) (6.0.1)\n",
            "Requirement already satisfied: fsspec[http]>2021.06.0 in /usr/local/lib/python3.10/dist-packages (from pytorch_lightning) (2023.6.0)\n",
            "Requirement already satisfied: packaging>=20.0 in /usr/local/lib/python3.10/dist-packages (from pytorch_lightning) (23.2)\n",
            "Requirement already satisfied: typing-extensions>=4.0.0 in /usr/local/lib/python3.10/dist-packages (from pytorch_lightning) (4.5.0)\n",
            "Requirement already satisfied: lightning-utilities>=0.8.0 in /usr/local/lib/python3.10/dist-packages (from pytorch_lightning) (0.10.0)\n",
            "Requirement already satisfied: requests in /usr/local/lib/python3.10/dist-packages (from fsspec[http]>2021.06.0->pytorch_lightning) (2.31.0)\n",
            "Requirement already satisfied: aiohttp!=4.0.0a0,!=4.0.0a1 in /usr/local/lib/python3.10/dist-packages (from fsspec[http]>2021.06.0->pytorch_lightning) (3.8.6)\n",
            "Requirement already satisfied: setuptools in /usr/local/lib/python3.10/dist-packages (from lightning-utilities>=0.8.0->pytorch_lightning) (67.7.2)\n",
            "Requirement already satisfied: filelock in /usr/local/lib/python3.10/dist-packages (from torch>=1.12.0->pytorch_lightning) (3.13.1)\n",
            "Requirement already satisfied: sympy in /usr/local/lib/python3.10/dist-packages (from torch>=1.12.0->pytorch_lightning) (1.12)\n",
            "Requirement already satisfied: networkx in /usr/local/lib/python3.10/dist-packages (from torch>=1.12.0->pytorch_lightning) (3.2.1)\n",
            "Requirement already satisfied: jinja2 in /usr/local/lib/python3.10/dist-packages (from torch>=1.12.0->pytorch_lightning) (3.1.2)\n",
            "Requirement already satisfied: triton==2.1.0 in /usr/local/lib/python3.10/dist-packages (from torch>=1.12.0->pytorch_lightning) (2.1.0)\n",
            "Requirement already satisfied: attrs>=17.3.0 in /usr/local/lib/python3.10/dist-packages (from aiohttp!=4.0.0a0,!=4.0.0a1->fsspec[http]>2021.06.0->pytorch_lightning) (23.1.0)\n",
            "Requirement already satisfied: charset-normalizer<4.0,>=2.0 in /usr/local/lib/python3.10/dist-packages (from aiohttp!=4.0.0a0,!=4.0.0a1->fsspec[http]>2021.06.0->pytorch_lightning) (3.3.2)\n",
            "Requirement already satisfied: multidict<7.0,>=4.5 in /usr/local/lib/python3.10/dist-packages (from aiohttp!=4.0.0a0,!=4.0.0a1->fsspec[http]>2021.06.0->pytorch_lightning) (6.0.4)\n",
            "Requirement already satisfied: async-timeout<5.0,>=4.0.0a3 in /usr/local/lib/python3.10/dist-packages (from aiohttp!=4.0.0a0,!=4.0.0a1->fsspec[http]>2021.06.0->pytorch_lightning) (4.0.3)\n",
            "Requirement already satisfied: yarl<2.0,>=1.0 in /usr/local/lib/python3.10/dist-packages (from aiohttp!=4.0.0a0,!=4.0.0a1->fsspec[http]>2021.06.0->pytorch_lightning) (1.9.2)\n",
            "Requirement already satisfied: frozenlist>=1.1.1 in /usr/local/lib/python3.10/dist-packages (from aiohttp!=4.0.0a0,!=4.0.0a1->fsspec[http]>2021.06.0->pytorch_lightning) (1.4.0)\n",
            "Requirement already satisfied: aiosignal>=1.1.2 in /usr/local/lib/python3.10/dist-packages (from aiohttp!=4.0.0a0,!=4.0.0a1->fsspec[http]>2021.06.0->pytorch_lightning) (1.3.1)\n",
            "Requirement already satisfied: MarkupSafe>=2.0 in /usr/local/lib/python3.10/dist-packages (from jinja2->torch>=1.12.0->pytorch_lightning) (2.1.3)\n",
            "Requirement already satisfied: idna<4,>=2.5 in /usr/local/lib/python3.10/dist-packages (from requests->fsspec[http]>2021.06.0->pytorch_lightning) (3.4)\n",
            "Requirement already satisfied: urllib3<3,>=1.21.1 in /usr/local/lib/python3.10/dist-packages (from requests->fsspec[http]>2021.06.0->pytorch_lightning) (2.0.7)\n",
            "Requirement already satisfied: certifi>=2017.4.17 in /usr/local/lib/python3.10/dist-packages (from requests->fsspec[http]>2021.06.0->pytorch_lightning) (2023.7.22)\n",
            "Requirement already satisfied: mpmath>=0.19 in /usr/local/lib/python3.10/dist-packages (from sympy->torch>=1.12.0->pytorch_lightning) (1.3.0)\n"
          ]
        }
      ],
      "source": [
        "!pip3 install pytorch_lightning torchmetrics"
      ]
    },
    {
      "cell_type": "markdown",
      "metadata": {
        "id": "qLDzKWeO0e0a"
      },
      "source": [
        "\n",
        "**✨ Внимание ✨**\n",
        "\n",
        "В этом домашнем задании предлагается использовать библиотеку `pytorch_lightning`. Доступ к ее [документации](https://lightning.ai/docs/pytorch/stable/) заблокирован с территории РФ. Вы можете:\n",
        "\n",
        "1. Получить к ней доступ с помощью VPN.\n",
        "\n",
        "2. Собрать документацию самостоятельно. Для этого склонируйте [github-репозиторий](https://github.com/Lightning-AI/lightning/tree/master), запустите в нем терминал (на windows – git bash) и выполните команды:\n",
        "\n",
        "```shell\n",
        "git submodule update --init --recursive\n",
        "make docs\n",
        "```\n",
        "После этого откройте появившийся файл `docs/build/html/index.html`. Для работы команд в вашем окружении должен быть `pip`. Полная инструкция [по ссылке](https://github.com/Lightning-AI/lightning/tree/master/docs).\n",
        "\n",
        "3. Гуглить `<error message> pytorch lightning` или `<how to do this> pytorch lightning`. Stack overflow на территории РФ все еще доступен 😉\n",
        "\n",
        "4. Не пользоваться `pytorch_lightning` и написать цикл обучения модели самостоятельно. Например, по аналогии с функцией `fit` из [семинара 4](https://github.com/hse-ds/iad-deep-learning/blob/master/2023/seminars/04.%20Optim%20%26%20Lightning/04_Optim%26Lightning_solution.ipynb)."
      ]
    },
    {
      "cell_type": "code",
      "execution_count": 1,
      "metadata": {
        "cell_id": 4,
        "id": "LKcSNj4tlRVK"
      },
      "outputs": [],
      "source": [
        "import math\n",
        "import os\n",
        "import random\n",
        "import sys\n",
        "\n",
        "import matplotlib.pyplot as plt\n",
        "import numpy as np\n",
        "import pytorch_lightning as pl\n",
        "import torch\n",
        "import torchvision\n",
        "import torchvision.transforms as transforms\n",
        "from PIL import Image\n",
        "from pytorch_lightning.loggers import WandbLogger\n",
        "from torch import nn\n",
        "from torch.nn import functional as F\n",
        "from torch.utils.data import DataLoader\n",
        "from torchmetrics.functional import accuracy as acc\n",
        "from torchvision.datasets import ImageFolder\n",
        "from tqdm import tqdm\n",
        "\n",
        "# You may add any imports you need\n",
        "from torchvision.transforms import v2"
      ]
    },
    {
      "cell_type": "code",
      "execution_count": 2,
      "metadata": {
        "id": "47YPLjDL-Mtv"
      },
      "outputs": [],
      "source": [
        "def seed_everything(seed):\n",
        "    # Фискирует максимум сидов.\n",
        "    # Это понадобится, чтобы сравнение оптимизаторов было корректным\n",
        "    random.seed(seed)\n",
        "    os.environ[\"PYTHONHASHSEED\"] = str(seed)\n",
        "    np.random.seed(seed)\n",
        "    torch.manual_seed(seed)\n",
        "    torch.cuda.manual_seed(seed)\n",
        "    torch.backends.cudnn.deterministic = True\n",
        "\n",
        "\n",
        "seed_everything(315)"
      ]
    },
    {
      "cell_type": "code",
      "execution_count": 4,
      "metadata": {
        "id": "gVKdh063AzhH",
        "colab": {
          "base_uri": "https://localhost:8080/"
        },
        "outputId": "5008c186-7f0c-4c92-8f83-dcc36b4d4ff1"
      },
      "outputs": [
        {
          "output_type": "stream",
          "name": "stdout",
          "text": [
            "--2023-11-18 16:19:40--  https://www.dropbox.com/s/33l8lp62rmvtx40/dataset.zip?dl=1\n",
            "Resolving www.dropbox.com (www.dropbox.com)... 162.125.65.18, 2620:100:6017:18::a27d:212\n",
            "Connecting to www.dropbox.com (www.dropbox.com)|162.125.65.18|:443... connected.\n",
            "HTTP request sent, awaiting response... 302 Found\n",
            "Location: /s/dl/33l8lp62rmvtx40/dataset.zip [following]\n",
            "--2023-11-18 16:19:40--  https://www.dropbox.com/s/dl/33l8lp62rmvtx40/dataset.zip\n",
            "Reusing existing connection to www.dropbox.com:443.\n",
            "HTTP request sent, awaiting response... 302 Found\n",
            "Location: https://uce2ba0356c4299cec5a798622eb.dl.dropboxusercontent.com/cd/0/get/CHyRa7RpmHaN2GPTXwLK8Zu5ucb4xiiwNudqFcg79k8sYC-O9_bmzDlRjxOdqnL5uOoDNTMUyQKr1nAZO6tJbeKZc6p4hEdfuZCypR9azLtCEDnKBCOw_D6PMWlXAoBNHoXZ2a7ENPXLpWnqCHD4pSs2/file?dl=1# [following]\n",
            "--2023-11-18 16:19:41--  https://uce2ba0356c4299cec5a798622eb.dl.dropboxusercontent.com/cd/0/get/CHyRa7RpmHaN2GPTXwLK8Zu5ucb4xiiwNudqFcg79k8sYC-O9_bmzDlRjxOdqnL5uOoDNTMUyQKr1nAZO6tJbeKZc6p4hEdfuZCypR9azLtCEDnKBCOw_D6PMWlXAoBNHoXZ2a7ENPXLpWnqCHD4pSs2/file?dl=1\n",
            "Resolving uce2ba0356c4299cec5a798622eb.dl.dropboxusercontent.com (uce2ba0356c4299cec5a798622eb.dl.dropboxusercontent.com)... 162.125.2.15, 2620:100:6022:15::a27d:420f\n",
            "Connecting to uce2ba0356c4299cec5a798622eb.dl.dropboxusercontent.com (uce2ba0356c4299cec5a798622eb.dl.dropboxusercontent.com)|162.125.2.15|:443... connected.\n",
            "HTTP request sent, awaiting response... 200 OK\n",
            "Length: 220318689 (210M) [application/binary]\n",
            "Saving to: ‘dataset.zip’\n",
            "\n",
            "dataset.zip         100%[===================>] 210.11M  84.7MB/s    in 2.5s    \n",
            "\n",
            "2023-11-18 16:19:44 (84.7 MB/s) - ‘dataset.zip’ saved [220318689/220318689]\n",
            "\n",
            "replace dataset/dataset/train/class_000/00000.jpg? [y]es, [n]o, [A]ll, [N]one, [r]ename: "
          ]
        }
      ],
      "source": [
        "!wget https://www.dropbox.com/s/33l8lp62rmvtx40/dataset.zip?dl=1 -O dataset.zip && unzip -q dataset.zip"
      ]
    },
    {
      "cell_type": "markdown",
      "metadata": {
        "id": "RytEDW0ylRVN"
      },
      "source": [
        "## Задание 0"
      ]
    },
    {
      "cell_type": "markdown",
      "metadata": {
        "id": "2HZECedTvepi"
      },
      "source": [
        "### Что поможет сделать на 10 из 10 (одно задание - 5 баллов)"
      ]
    },
    {
      "cell_type": "markdown",
      "metadata": {
        "id": "dOioHGEiveso"
      },
      "source": [
        "1. Использовать все возможные методы оптимизации и эксперемнтировать с ними.\n",
        "2. Подбор learning rate. Пример из прошлого семинара как это делать: [Как найти lr](https://pytorch-lightning.readthedocs.io/en/1.4.5/advanced/lr_finder.html)\n",
        "\n",
        "```\n",
        "  trainer = pl.Trainer(accelerator=\"gpu\", max_epochs=2, auto_lr_find=True)\n",
        "\n",
        "  trainer.tune(module, train_dataloader, eval_dataloader)\n",
        "\n",
        "  trainer.fit(module, train_dataloader, eval_dataloader))\n",
        "```\n",
        "\n",
        "\n",
        "\n",
        "3. Аугментация данных. [Документация (полезная)](https://pytorch.org/vision/main/transforms.html), а также [библиотека albumentation](https://towardsdatascience.com/getting-started-with-albumentation-winning-deep-learning-image-augmentation-technique-in-pytorch-47aaba0ee3f8)\n",
        "4. Подбор архитектуры модели.\n",
        "5. Можно написать модель руками свою в YourNet, а можно импортировать не предобученную сетку известной архитектуры из модуля torchvision.models. Один из способов как можно сделать:\n",
        "\n",
        "  * `torchvision.models.resnet18(pretrained=False, num_classes=200).to(device)`\n",
        "  * Документация по возможным моделям и как их можно брать: [Документация (полезная)](https://pytorch.org/vision/stable/models.html)\n",
        "6. Правильно нормализовывать данные при создании, пример [тык, но тут и в целом гайд от и до](https://www.pluralsight.com/guides/image-classification-with-pytorch)\n",
        "7. Model Checkpointing. Сохраняйте свой прогресс (модели), чтобы когда что-то пойдет не так вы сможете начать с этого места или просто воспроизвести свои результаты модели, которые обучали.\n",
        " * Пример как можно с wandb тут: [Сохраняем лучшие модели в wandb](https://docs.wandb.ai/guides/integrations/lightning)\n",
        " * По простому можно так: [Сохраняем модели в pytorch дока](https://pytorch.org/tutorials/beginner/saving_loading_models.html)"
      ]
    },
    {
      "cell_type": "markdown",
      "metadata": {
        "id": "WYePsQgNRB-n"
      },
      "source": [
        "### Подготовка данных"
      ]
    },
    {
      "cell_type": "code",
      "execution_count": 5,
      "metadata": {
        "cell_id": 5,
        "id": "QEdDQtHdlRVO"
      },
      "outputs": [],
      "source": [
        "# YOU CAN DEFINE AUGMENTATIONS HERE\n",
        "train_transform = transforms.Compose([\n",
        "    transforms.ToTensor(),\n",
        "])\n",
        "\n",
        "val_transform = transforms.Compose([\n",
        "    transforms.ToTensor(),\n",
        "])\n",
        "\n",
        "\n",
        "\n",
        "train_dataset = ImageFolder('/content/dataset/dataset/train', transform=train_transform)\n",
        "val_dataset = ImageFolder('/content/dataset/dataset/val', transform=val_transform)\n",
        "# REPLACE ./dataset/dataset WITH THE FOLDER WHERE YOU DOWNLOADED AND UNZIPPED THE DATASET\n",
        "\n",
        "train_dataloader = DataLoader(train_dataset, batch_size=256, shuffle=True, num_workers=2)\n",
        "val_dataloader = DataLoader(val_dataset, batch_size=256, shuffle=False, num_workers=2)"
      ]
    },
    {
      "cell_type": "code",
      "source": [
        "means = torch.zeros(3)\n",
        "stds = torch.zeros(3)\n",
        "\n",
        "for inputs, _ in train_dataloader:\n",
        "    means += torch.mean(inputs, dim=(0, 2, 3))\n",
        "    stds += torch.std(inputs, dim=(0, 2, 3))\n",
        "\n",
        "means /= len(train_dataloader)\n",
        "stds /= len(train_dataloader)\n",
        "\n",
        "print(\"Means:\", means)\n",
        "print(\"Stds:\", stds)"
      ],
      "metadata": {
        "colab": {
          "base_uri": "https://localhost:8080/"
        },
        "id": "ddzRX_i5tZpQ",
        "outputId": "e1d71437-13ac-4e11-c80f-c8e84f5793e7"
      },
      "execution_count": 6,
      "outputs": [
        {
          "output_type": "stream",
          "name": "stdout",
          "text": [
            "Means: tensor([0.4802, 0.4480, 0.3975])\n",
            "Stds: tensor([0.2763, 0.2687, 0.2814])\n"
          ]
        }
      ]
    },
    {
      "cell_type": "code",
      "source": [
        "# YOU CAN DEFINE AUGMENTATIONS HERE\n",
        "seed_everything(315)\n",
        "train_transform = transforms.Compose([\n",
        "    v2.RandomHorizontalFlip(),\n",
        "    v2.RandomVerticalFlip(),\n",
        "    transforms.ToTensor(),\n",
        "    transforms.Normalize([0.4802, 0.4481, 0.3975], [0.2763, 0.2687, 0.2814])\n",
        "])\n",
        "\n",
        "val_transform = transforms.Compose([\n",
        "    transforms.ToTensor(),\n",
        "    transforms.Normalize([0.4802, 0.4481, 0.3975], [0.2763, 0.2687, 0.2814])\n",
        "])\n",
        "\n",
        "\n",
        "\n",
        "train_dataset = ImageFolder('/content/dataset/dataset/train', transform=train_transform)\n",
        "val_dataset = ImageFolder('/content/dataset/dataset/val', transform=val_transform)\n",
        "# REPLACE ./dataset/dataset WITH THE FOLDER WHERE YOU DOWNLOADED AND UNZIPPED THE DATASET\n",
        "\n",
        "train_dataloader = DataLoader(train_dataset, batch_size=256, shuffle=True, num_workers=2)\n",
        "val_dataloader = DataLoader(val_dataset, batch_size=256, shuffle=False, num_workers=2)"
      ],
      "metadata": {
        "id": "qum1Hp8tt9vU"
      },
      "execution_count": 83,
      "outputs": []
    },
    {
      "cell_type": "code",
      "execution_count": 8,
      "metadata": {
        "cell_id": 6,
        "id": "mrg4Yj0VlRVP",
        "colab": {
          "base_uri": "https://localhost:8080/"
        },
        "outputId": "7e61efb3-0d4d-4544-8aff-fa4e5525fcd3"
      },
      "outputs": [
        {
          "output_type": "stream",
          "name": "stdout",
          "text": [
            "tests passed\n"
          ]
        }
      ],
      "source": [
        "# Just very simple sanity checks\n",
        "assert isinstance(train_dataset[0], tuple)\n",
        "assert len(train_dataset[0]) == 2\n",
        "assert isinstance(train_dataset[1][1], int)\n",
        "print(\"tests passed\")"
      ]
    },
    {
      "cell_type": "markdown",
      "metadata": {
        "id": "EOuM0EEYj7Ml"
      },
      "source": [
        "### Посмотрим на картиночки"
      ]
    },
    {
      "cell_type": "code",
      "execution_count": 9,
      "metadata": {
        "id": "DeuB0YC3LYRm",
        "colab": {
          "base_uri": "https://localhost:8080/",
          "height": 884
        },
        "outputId": "1940a3c6-0f7d-4eb9-c836-fc7e3dca2d31"
      },
      "outputs": [
        {
          "output_type": "stream",
          "name": "stderr",
          "text": [
            "WARNING:matplotlib.image:Clipping input data to the valid range for imshow with RGB data ([0..1] for floats or [0..255] for integers).\n"
          ]
        },
        {
          "output_type": "display_data",
          "data": {
            "text/plain": [
              "<Figure size 640x480 with 1 Axes>"
            ],
            "image/png": "[encoded data removed]"
          },
          "metadata": {}
        },
        {
          "output_type": "stream",
          "name": "stderr",
          "text": [
            "WARNING:matplotlib.image:Clipping input data to the valid range for imshow with RGB data ([0..1] for floats or [0..255] for integers).\n"
          ]
        },
        {
          "output_type": "display_data",
          "data": {
            "text/plain": [
              "<Figure size 640x480 with 1 Axes>"
            ],
            "image/png": "[encoded data removed]"
          },
          "metadata": {}
        }
      ],
      "source": [
        "for batch in val_dataloader:\n",
        "    images, class_nums = batch\n",
        "    plt.imshow(images[5].permute(1, 2, 0))\n",
        "    plt.show()\n",
        "    plt.imshow(images[19].permute(1, 2, 0))\n",
        "    plt.show()\n",
        "    break"
      ]
    },
    {
      "cell_type": "markdown",
      "metadata": {
        "id": "LCwKB-3nKm1-"
      },
      "source": [
        "## Задание 1.\n",
        "\n",
        "5 баллов\n",
        "Добейтесь accuracy на валидации не менее 0.44. В этом задании запрещено пользоваться предобученными моделями и ресайзом картинок.\n",
        "\n",
        "\n",
        "Для того чтобы выбить скор (считается ниже) на 2.5/5 балла (то есть половину за задание) достаточно соблюдать пару простых жизненных правил:\n",
        "1. Аугментация (без нее сложно очень будет)\n",
        "2. Оптимайзеры можно (и нужно) использовать друг с другом. Однако когда что-то проверяете, то не меняйте несколько параметров сразу - собьете логику экспериментов\n",
        "3. Не используйте полносвязные модели или самые первые сверточные, используйте более современные архитектуры (что на лекциях встречались)\n",
        "4. Посмотреть все ноутбуки прошедших семинаров и слепить из них что-то общее. Семинарских тетрадок хватит сверх"
      ]
    },
    {
      "cell_type": "code",
      "source": [
        "device = torch.device(\"cuda\") if torch.cuda.is_available() else torch.device(\"cpu\")"
      ],
      "metadata": {
        "id": "-FRLiOJBY151"
      },
      "execution_count": 3,
      "outputs": []
    },
    {
      "cell_type": "code",
      "source": [
        "class MegaNet(torch.nn.Module):\n",
        "    def __init__(self):\n",
        "        super().__init__()\n",
        "\n",
        "        self.vgg1 = torch.nn.Sequential(\n",
        "            nn.Conv2d(3, 16, 3, padding=1),\n",
        "            nn.BatchNorm2d(16),\n",
        "            nn.ReLU(),\n",
        "            nn.MaxPool2d(2, 2),\n",
        "            nn.Conv2d(16, 32, 3, padding=1),\n",
        "            nn.BatchNorm2d(32),\n",
        "            nn.ReLU(),\n",
        "            nn.Conv2d(32, 64, 3, padding=1),\n",
        "            nn.BatchNorm2d(64),\n",
        "            nn.ReLU(),\n",
        "            nn.MaxPool2d(2, 2)\n",
        "        )\n",
        "\n",
        "        self.vgg2 = torch.nn.Sequential(\n",
        "            nn.Conv2d(64, 128, 3, padding=1),\n",
        "            nn.BatchNorm2d(128),\n",
        "            nn.ReLU(),\n",
        "            nn.Conv2d(128, 128, 3, padding=1),\n",
        "            nn.BatchNorm2d(128),\n",
        "            nn.ReLU(),\n",
        "            nn.MaxPool2d(2, 2),\n",
        "            nn.Conv2d(128, 256, 3, padding=1),\n",
        "            nn.BatchNorm2d(256),\n",
        "            nn.ReLU(),\n",
        "            nn.Conv2d(256, 256, 3, padding=1),\n",
        "            nn.BatchNorm2d(256),\n",
        "            nn.ReLU(),\n",
        "            nn.MaxPool2d(2, 2)\n",
        "        )\n",
        "\n",
        "\n",
        "        self.fc1 = nn.Linear(in_features=4096, out_features=2048)\n",
        "        self.act = nn.ReLU()\n",
        "        self.fc2 = nn.Linear(in_features=2048, out_features=200)\n",
        "\n",
        "        self.dropout = nn.Dropout(p=0.4)\n",
        "        self.batch_norm1 = nn.BatchNorm1d(2048)\n",
        "\n",
        "\n",
        "        self.loss_func = torch.nn.CrossEntropyLoss()\n",
        "        self.targets = torch.Tensor()\n",
        "        self.preds = torch.Tensor()\n",
        "\n",
        "\n",
        "    def _forward(self, x):\n",
        "        x = self.vgg1(x)\n",
        "        x = self.vgg2(x)\n",
        "\n",
        "\n",
        "        x = nn.Flatten()(x)\n",
        "        x = self.fc1(x)\n",
        "        x = self.act(self.batch_norm1(x))\n",
        "        x = self.dropout(x)\n",
        "\n",
        "        return self.fc2(x)\n",
        "\n",
        "    def forward(self, images, target=None):\n",
        "        output = self._forward(images)\n",
        "\n",
        "\n",
        "        if target is not None:\n",
        "            loss = self.loss_func(output, target)\n",
        "\n",
        "            self.targets = torch.cat((self.targets, target.cpu()), 0)\n",
        "            pred = torch.argmax(output, dim=-1)\n",
        "            self.preds = torch.cat((self.preds, pred.cpu()), 0)\n",
        "            self.accuracy_value = acc(self.preds.long(), self.targets.long(), task='multiclass', num_classes=200)\n",
        "\n",
        "        return loss if target is not None else output\n",
        "\n",
        "    def get_accuracy(self, reset=False):\n",
        "        if reset:\n",
        "            self.targets = torch.Tensor()\n",
        "            self.preds = torch.Tensor()\n",
        "        return self.accuracy_value"
      ],
      "metadata": {
        "id": "haW5L6Y10D4c"
      },
      "execution_count": 80,
      "outputs": []
    },
    {
      "cell_type": "code",
      "source": [
        "from collections import defaultdict, namedtuple\n",
        "\n",
        "LossInfo = namedtuple(\n",
        "    \"LossInfo\", [\"full_train_losses\", \"train_epoch_losses\", \"eval_epoch_losses\", \"eval_batch_losses\", \"eval_batch_accuracies\"]\n",
        ")"
      ],
      "metadata": {
        "id": "psDrtqRvY1-Y"
      },
      "execution_count": 74,
      "outputs": []
    },
    {
      "cell_type": "code",
      "source": [
        "def train_epoch(model, data_loader, optimizer, return_losses=False, device=\"cuda:0\"):\n",
        "    model = model.train()\n",
        "    total_loss = 0\n",
        "    num_batches = 0\n",
        "    all_losses = []\n",
        "    with tqdm(total=len(data_loader), file=sys.stdout) as prbar:\n",
        "        for batch in data_loader:\n",
        "            # move Batch to GPU\n",
        "            batch = [x.to(device=device) for x in batch]\n",
        "            loss = model(*batch)\n",
        "            # update weights\n",
        "            loss.backward()\n",
        "            optimizer.step()\n",
        "            optimizer.zero_grad()\n",
        "            # update description for tqdm\n",
        "            accuracy = model.get_accuracy()\n",
        "            prbar.set_description(\n",
        "                f\"Loss: {round(loss.item(), 4)} \"\n",
        "                f\"Accuracy: {round(accuracy.item() * 100, 4)}\"\n",
        "            )\n",
        "            prbar.update(1)\n",
        "            total_loss += loss.item()\n",
        "            num_batches += 1\n",
        "            all_losses.append(loss.detach().item())\n",
        "    acc = model.get_accuracy(reset=True)\n",
        "    metrics = {\"loss\": total_loss / num_batches, \"accuracy\": acc}\n",
        "    if return_losses:\n",
        "        return metrics, all_losses\n",
        "    else:\n",
        "        return metrics\n",
        "\n",
        "def validate(model, data_loader, device=\"cuda:0\"):\n",
        "    model = model.eval()\n",
        "    total_loss = 0\n",
        "    num_batches = 0\n",
        "    all_losses = []\n",
        "    all_accuracies = []\n",
        "    with tqdm(total=len(data_loader), file=sys.stdout) as prbar:\n",
        "        for batch in data_loader:\n",
        "            batch = [x.to(device=device) for x in batch]\n",
        "            loss = model(*batch)\n",
        "            accuracy = model.get_accuracy()\n",
        "            prbar.set_description(\n",
        "                f\"Loss: {round(loss.item(), 4)} \"\n",
        "                f\"Accuracy: {round(accuracy.item() * 100, 4)}\"\n",
        "            )\n",
        "            prbar.update(1)\n",
        "            total_loss += loss.item()\n",
        "            num_batches += 1\n",
        "            all_losses.append(loss.detach().item())\n",
        "            all_accuracies.append(accuracy.item())\n",
        "\n",
        "    acc = model.get_accuracy(reset=True)\n",
        "    metrics = {\n",
        "        \"loss\": total_loss / num_batches,\n",
        "        \"accuracy\": acc,\n",
        "        \"batch_losses\": all_losses,\n",
        "        \"batch_accuracies\": all_accuracies\n",
        "    }\n",
        "    return metrics"
      ],
      "metadata": {
        "id": "WpZ-AaahY2At"
      },
      "execution_count": 75,
      "outputs": []
    },
    {
      "cell_type": "code",
      "source": [
        "def fit(model, epochs, train_data_loader, validation_data_loader, optimizer, scheduler=None, device=\"cuda:0\"):\n",
        "    all_train_losses = []\n",
        "    epoch_train_losses = []\n",
        "    epoch_eval_losses = []\n",
        "    all_eval_batch_losses = []\n",
        "    all_eval_batch_accuracies = []\n",
        "\n",
        "    for epoch in range(epochs):\n",
        "        train_iterator = iter(train_data_loader)\n",
        "        validation_iterator = iter(validation_data_loader)\n",
        "        print(f\"Train Epoch: {epoch}\")\n",
        "        train_metrics, one_epoch_train_losses = train_epoch(\n",
        "            model=model,\n",
        "            data_loader=train_iterator,\n",
        "            optimizer=optimizer,\n",
        "            return_losses=True,\n",
        "            device=device,\n",
        "        )\n",
        "        all_train_losses.extend(one_epoch_train_losses)\n",
        "        epoch_train_losses.append(train_metrics[\"loss\"])\n",
        "        print(f\"Validation Epoch: {epoch}\")\n",
        "        with torch.no_grad():\n",
        "            validation_metrics = validate(\n",
        "                model=model, data_loader=validation_iterator, device=device\n",
        "            )\n",
        "        epoch_eval_losses.append(validation_metrics[\"loss\"])\n",
        "        all_eval_batch_losses.extend(validation_metrics[\"batch_losses\"])\n",
        "        all_eval_batch_accuracies.extend(validation_metrics[\"batch_accuracies\"])\n",
        "        if scheduler:\n",
        "            scheduler.step()\n",
        "\n",
        "    return LossInfo(all_train_losses, epoch_train_losses, epoch_eval_losses, all_eval_batch_losses, all_eval_batch_accuracies)"
      ],
      "metadata": {
        "id": "k18ZFwVFY2DD"
      },
      "execution_count": 76,
      "outputs": []
    },
    {
      "cell_type": "code",
      "source": [
        "seed_everything(315)\n",
        "LR = 0.00045 #0.00045\n",
        "EPOCHS = 18\n",
        "weight_decay_value = 1e-4\n",
        "mega_model = MegaNet().to(device)\n",
        "lambda_func = lambda epoch: 0.9**epoch\n",
        "optimizer = torch.optim.Adam(mega_model.parameters(), lr=LR, weight_decay=weight_decay_value)\n",
        "scheduler = torch.optim.lr_scheduler.LambdaLR(optimizer, lr_lambda=lambda_func)\n",
        "_ = fit(\n",
        "    model=mega_model,\n",
        "    epochs=EPOCHS,\n",
        "    train_data_loader=train_dataloader,\n",
        "    validation_data_loader=val_dataloader,\n",
        "    optimizer=optimizer,\n",
        "    device=device,\n",
        ")"
      ],
      "metadata": {
        "colab": {
          "base_uri": "https://localhost:8080/"
        },
        "id": "yfDQjQRsY2FW",
        "outputId": "c9035beb-389b-408f-ca61-8496a308f457"
      },
      "execution_count": null,
      "outputs": [
        {
          "output_type": "stream",
          "name": "stdout",
          "text": [
            "Train Epoch: 0\n",
            "Loss: 3.5493 Accuracy: 13.102: 100%|██████████| 391/391 [01:16<00:00,  5.13it/s]\n",
            "Validation Epoch: 0\n",
            "Loss: 2.2782 Accuracy: 18.16: 100%|██████████| 40/40 [00:04<00:00,  8.96it/s]\n",
            "Train Epoch: 1\n",
            "Loss: 3.3034 Accuracy: 23.285: 100%|██████████| 391/391 [01:13<00:00,  5.31it/s]\n",
            "Validation Epoch: 1\n",
            "Loss: 2.3362 Accuracy: 22.97: 100%|██████████| 40/40 [00:04<00:00,  9.34it/s]\n",
            "Train Epoch: 2\n",
            "Loss: 3.0731 Accuracy: 29.422: 100%|██████████| 391/391 [01:14<00:00,  5.27it/s]\n",
            "Validation Epoch: 2\n",
            "Loss: 2.5269 Accuracy: 28.85: 100%|██████████| 40/40 [00:05<00:00,  6.71it/s]\n",
            "Train Epoch: 3\n",
            "Loss: 2.657 Accuracy: 33.718: 100%|██████████| 391/391 [01:13<00:00,  5.32it/s]\n",
            "Validation Epoch: 3\n",
            "Loss: 2.3962 Accuracy: 31.68: 100%|██████████| 40/40 [00:04<00:00,  9.57it/s]\n",
            "Train Epoch: 4\n",
            "Loss: 2.4175 Accuracy: 36.809: 100%|██████████| 391/391 [01:13<00:00,  5.29it/s]\n",
            "Validation Epoch: 4\n",
            "Loss: 2.2863 Accuracy: 34.22: 100%|██████████| 40/40 [00:06<00:00,  5.85it/s]\n",
            "Train Epoch: 5\n",
            "Loss: 2.867 Accuracy: 39.835: 100%|██████████| 391/391 [01:13<00:00,  5.32it/s]\n",
            "Validation Epoch: 5\n",
            "Loss: 1.7432 Accuracy: 37.62: 100%|██████████| 40/40 [00:04<00:00,  9.33it/s]\n",
            "Train Epoch: 6\n",
            "Loss: 2.4629 Accuracy: 42.49: 100%|██████████| 391/391 [01:14<00:00,  5.25it/s]\n",
            "Validation Epoch: 6\n",
            "Loss: 2.0303 Accuracy: 36.78: 100%|██████████| 40/40 [00:06<00:00,  6.51it/s]\n",
            "Train Epoch: 7\n",
            "Loss: 2.04 Accuracy: 44.867: 100%|██████████| 391/391 [01:22<00:00,  4.76it/s]\n",
            "Validation Epoch: 7\n",
            "Loss: 1.9622 Accuracy: 38.01: 100%|██████████| 40/40 [00:05<00:00,  6.95it/s]\n",
            "Train Epoch: 8\n",
            "Loss: 2.1632 Accuracy: 47.018: 100%|██████████| 391/391 [01:16<00:00,  5.09it/s]\n",
            "Validation Epoch: 8\n",
            "Loss: 1.3489 Accuracy: 39.73: 100%|██████████| 40/40 [00:04<00:00,  9.24it/s]\n",
            "Train Epoch: 9\n",
            "Loss: 2.1917 Accuracy: 48.758: 100%|██████████| 391/391 [01:13<00:00,  5.34it/s]\n",
            "Validation Epoch: 9\n",
            "Loss: 1.5833 Accuracy: 39.39: 100%|██████████| 40/40 [00:05<00:00,  7.74it/s]\n",
            "Train Epoch: 10\n",
            "Loss: 1.6883 Accuracy: 50.846: 100%|██████████| 391/391 [01:13<00:00,  5.30it/s]\n",
            "Validation Epoch: 10\n",
            "Loss: 1.8877 Accuracy: 41.2: 100%|██████████| 40/40 [00:05<00:00,  7.89it/s]\n",
            "Train Epoch: 11\n",
            "Loss: 1.8038 Accuracy: 52.62: 100%|██████████| 391/391 [01:13<00:00,  5.30it/s]\n",
            "Validation Epoch: 11\n",
            "Loss: 1.3952 Accuracy: 41.54: 100%|██████████| 40/40 [00:04<00:00,  9.43it/s]\n",
            "Train Epoch: 12\n",
            "Loss: 1.7709 Accuracy: 54.474: 100%|██████████| 391/391 [01:15<00:00,  5.17it/s]\n",
            "Validation Epoch: 12\n",
            "Loss: 1.6059 Accuracy: 42.54: 100%|██████████| 40/40 [00:05<00:00,  7.14it/s]\n",
            "Train Epoch: 13\n",
            "Loss: 1.9012 Accuracy: 55.888: 100%|██████████| 391/391 [01:13<00:00,  5.30it/s]\n",
            "Validation Epoch: 13\n",
            "Loss: 1.6007 Accuracy: 43.09: 100%|██████████| 40/40 [00:04<00:00,  9.43it/s]\n",
            "Train Epoch: 14\n",
            "Loss: 1.5674 Accuracy: 57.777: 100%|██████████| 391/391 [01:14<00:00,  5.22it/s]\n",
            "Validation Epoch: 14\n",
            "Loss: 1.3686 Accuracy: 43.19: 100%|██████████| 40/40 [00:06<00:00,  6.30it/s]\n",
            "Train Epoch: 15\n",
            "Loss: 1.6546 Accuracy: 59.327: 100%|██████████| 391/391 [01:12<00:00,  5.36it/s]\n",
            "Validation Epoch: 15\n",
            "Loss: 1.839 Accuracy: 43.0: 100%|██████████| 40/40 [00:04<00:00,  9.35it/s]\n",
            "Train Epoch: 16\n",
            "Loss: 1.5986 Accuracy: 60.957: 100%|██████████| 391/391 [01:13<00:00,  5.31it/s]\n",
            "Validation Epoch: 16\n",
            "Loss: 1.4468 Accuracy: 43.08: 100%|██████████| 40/40 [00:05<00:00,  6.72it/s]\n",
            "Train Epoch: 17\n",
            "Loss: 1.3766 Accuracy: 62.306: 100%|██████████| 391/391 [01:14<00:00,  5.26it/s]\n",
            "Validation Epoch: 17\n",
            "Loss: 1.7943 Accuracy: 44.31: 100%|██████████| 40/40 [00:04<00:00,  9.39it/s]\n"
          ]
        }
      ]
    },
    {
      "cell_type": "code",
      "source": [
        "plt.plot(\n",
        "    np.arange(len(train_dataloader) * 18),\n",
        "    _.full_train_losses,\n",
        ")\n",
        "# график зависимости лосса по батчам"
      ],
      "metadata": {
        "id": "HKfBepXhMmgS"
      },
      "execution_count": null,
      "outputs": []
    },
    {
      "cell_type": "code",
      "source": [
        "plt.figure(figsize=(12, 5))\n",
        "plt.subplot(1, 2, 1)\n",
        "plt.plot(\n",
        "    np.arange(len(_.eval_batch_losses)),\n",
        "    _.eval_batch_losses,\n",
        ")\n",
        "plt.xlabel(\"Batch\")\n",
        "plt.ylabel(\"Validation Loss\")\n",
        "plt.title(\"Validation Loss Over Batches\")\n",
        "\n",
        "plt.subplot(1, 2, 2)\n",
        "plt.plot(\n",
        "    np.arange(len(_.eval_batch_accuracies)),\n",
        "    [accuracy * 100 for accuracy in _.eval_batch_accuracies],\n",
        ")\n",
        "plt.xlabel(\"Batch\")\n",
        "plt.ylabel(\"Validation Accuracy (%)\")\n",
        "plt.title(\"Validation Accuracy Over Batches\")\n",
        "\n",
        "plt.tight_layout()\n",
        "plt.show()\n"
      ],
      "metadata": {
        "id": "TgJ97FUzMqh8"
      },
      "execution_count": null,
      "outputs": []
    },
    {
      "cell_type": "markdown",
      "metadata": {
        "id": "3eoTAB1fSOuk"
      },
      "source": [
        "### Валидация результатов задания"
      ]
    },
    {
      "cell_type": "code",
      "execution_count": 20,
      "metadata": {
        "id": "4M_BAiMNl1rL"
      },
      "outputs": [],
      "source": [
        "def evaluate_task(model, test_dataloader, device=\"cuda:0\"):\n",
        "    model = model.to(device)\n",
        "    model.eval()\n",
        "    accuracy = 0.0\n",
        "    for images, labels in tqdm(test_dataloader):\n",
        "        images, labels = images.to(device), labels.to(device)\n",
        "        with torch.no_grad():\n",
        "            loss = model(images, labels)\n",
        "            acc_batch = model.get_accuracy(reset=True)\n",
        "        accuracy += acc_batch\n",
        "    accuracy = accuracy / len(test_dataloader)\n",
        "    return accuracy"
      ]
    },
    {
      "cell_type": "code",
      "execution_count": null,
      "metadata": {
        "id": "TsP57VG8KEfP",
        "colab": {
          "base_uri": "https://localhost:8080/"
        },
        "outputId": "414f7bb4-e9b1-467c-ecab-3bcb86ede5f0"
      },
      "outputs": [
        {
          "output_type": "stream",
          "name": "stderr",
          "text": [
            "100%|██████████| 40/40 [00:05<00:00,  7.55it/s]"
          ]
        },
        {
          "output_type": "stream",
          "name": "stdout",
          "text": [
            "Оценка за это задание составит 10.00 баллов\n"
          ]
        },
        {
          "output_type": "stream",
          "name": "stderr",
          "text": [
            "\n"
          ]
        }
      ],
      "source": [
        "accuracy = evaluate_task(mega_model, val_dataloader)\n",
        "print(f\"Оценка за это задание составит {np.clip(10 * accuracy / 0.44, 0, 10):.2f} баллов\")"
      ]
    },
    {
      "cell_type": "markdown",
      "metadata": {
        "id": "cZqSdlQQKukS"
      },
      "source": [
        "## Задание 2\n",
        "\n",
        "5 баллов\n",
        "Добейтесь accuracy на валидации не менее 0.84. В этом задании делать ресайз и использовать претрейн можно.\n",
        "\n",
        "Для того чтобы выбить скор (считается ниже) на 2.5/5 балла (то есть половину за задание) достаточно соблюдать пару простых жизненных правил:\n",
        "1. Аугментация (без нее сложно очень будет)\n",
        "2. Оптимайзеры можно (и нужно) использовать друг с другом. Однако когда что-то проверяете, то не меняйте несколько параметров сразу - собьете логику экспериментов\n",
        "3. Не используйте полносвязные модели или самые первые сверточные, используйте более современные архитектуры (что на лекциях встречались или можете пойти дальше).\n",
        "4. Попробуйте сначала посмотреть качество исходной модели без дообучения, сохраните как baseline. Отсюда поймете какие слои нужно дообучать.\n",
        "5. Посмотреть все ноутбуки прошедших семинаров и слепить из них что-то общее. Семинарских тетрадок хватит сверх"
      ]
    },
    {
      "cell_type": "markdown",
      "metadata": {
        "id": "u5D2bwOKSHVp"
      },
      "source": [
        "### Валидация результатов задания"
      ]
    },
    {
      "cell_type": "code",
      "source": [
        "seed_everything(315)\n",
        "from torchvision.transforms import Resize\n",
        "train_transform = transforms.Compose([\n",
        "    Resize((300, 300)),\n",
        "    transforms.ToTensor(),\n",
        "    transforms.Normalize([0.4802, 0.4481, 0.3975], [0.2763, 0.2687, 0.2814])\n",
        "])\n",
        "\n",
        "val_transform = transforms.Compose([\n",
        "    Resize((300, 300)),\n",
        "    transforms.ToTensor(),\n",
        "    transforms.Normalize([0.4802, 0.4481, 0.3975], [0.2763, 0.2687, 0.2814])\n",
        "])\n",
        "\n",
        "train_dataset = ImageFolder('/content/dataset/dataset/train', transform=train_transform)\n",
        "val_dataset = ImageFolder('/content/dataset/dataset/val', transform=val_transform)\n",
        "\n",
        "train_dataloader = DataLoader(train_dataset, batch_size=128, shuffle=True, num_workers=2)\n",
        "val_dataloader = DataLoader(val_dataset, batch_size=128, shuffle=False, num_workers=2)"
      ],
      "metadata": {
        "id": "UPSx8QJ_LIyb"
      },
      "execution_count": 96,
      "outputs": []
    },
    {
      "cell_type": "code",
      "source": [
        "seed_everything(315)\n",
        "from torchvision.models import efficientnet_b3, EfficientNet_B3_Weights\n",
        "from torchvision.models._api import WeightsEnum\n",
        "from torch.hub import load_state_dict_from_url\n",
        "\n",
        "def get_state_dict(self, *args, **kwargs):\n",
        "    kwargs.pop(\"check_hash\")\n",
        "    return load_state_dict_from_url(self.url, *args, **kwargs)\n",
        "WeightsEnum.get_state_dict = get_state_dict\n",
        "\n",
        "efficientnet_b3(weights=EfficientNet_B3_Weights.IMAGENET1K_V1)\n",
        "efficientnet_b3(weights=\"DEFAULT\")\n",
        "#код взят отсюда: https://github.com/pytorch/vision/issues/7744#issuecomment-1757321451\n",
        "\n",
        "\n",
        "class GigaNet(torch.nn.Module):\n",
        "    def __init__(self):\n",
        "        super().__init__()\n",
        "\n",
        "        self.efficientnet = efficientnet_b3(pretrained=True)\n",
        "        for param in self.efficientnet.parameters():\n",
        "            param.requires_grad = False\n",
        "\n",
        "        self.efficientnet.classifier[1] = nn.Linear(in_features=1536, out_features=1024)\n",
        "\n",
        "\n",
        "        self.fc = nn.Sequential(\n",
        "              nn.BatchNorm1d(1024),\n",
        "              nn.Linear(1024, 200),\n",
        "            )\n",
        "\n",
        "        self.loss_func = torch.nn.CrossEntropyLoss()\n",
        "        self.targets = torch.Tensor()\n",
        "        self.preds = torch.Tensor()\n",
        "\n",
        "    def _forward(self, x):\n",
        "        x = self.fc(x)\n",
        "\n",
        "        return x\n",
        "\n",
        "    def forward(self, images, target=None):\n",
        "        efficientnet_output = self.efficientnet(images)\n",
        "        output = self._forward(efficientnet_output)\n",
        "\n",
        "        if target is not None:\n",
        "            loss = self.loss_func(output, target)\n",
        "\n",
        "            self.targets = torch.cat((self.targets, target.cpu()), 0)\n",
        "            pred = torch.argmax(output, dim=-1)\n",
        "            self.preds = torch.cat((self.preds, pred.cpu()), 0)\n",
        "            self.accuracy_value = acc(self.preds.long(), self.targets.long(), task='multiclass', num_classes=200)\n",
        "\n",
        "        return loss if target is not None else output\n",
        "\n",
        "    def get_accuracy(self, reset=False):\n",
        "        if reset:\n",
        "            self.targets = torch.Tensor()\n",
        "            self.preds = torch.Tensor()\n",
        "        return self.accuracy_value"
      ],
      "metadata": {
        "id": "OaYTfr-TG59R"
      },
      "execution_count": 94,
      "outputs": []
    },
    {
      "cell_type": "code",
      "source": [
        "seed_everything(315)\n",
        "LR = 0.001 #0.00045\n",
        "EPOCHS = 2\n",
        "weight_decay_value = 1e-4\n",
        "giga_model = GigaNet().to(device)\n",
        "lambda_func = lambda epoch: 0.975**epoch\n",
        "optimizer = torch.optim.Adam(giga_model.parameters(), lr=LR, weight_decay=weight_decay_value)\n",
        "scheduler = torch.optim.lr_scheduler.LambdaLR(optimizer, lr_lambda=lambda_func)\n",
        "_ = fit(\n",
        "    model=giga_model,\n",
        "    epochs=EPOCHS,\n",
        "    train_data_loader=train_dataloader,\n",
        "    validation_data_loader=val_dataloader,\n",
        "    optimizer=optimizer,\n",
        "    device=device,\n",
        ")"
      ],
      "metadata": {
        "id": "Z3HrXZ-KHwik"
      },
      "execution_count": null,
      "outputs": []
    },
    {
      "cell_type": "code",
      "source": [
        "plt.plot(\n",
        "    np.arange(len(subset_train_dataloader) * 2),\n",
        "    _.full_train_losses,\n",
        ")"
      ],
      "metadata": {
        "id": "PqOh72wDZ_m3"
      },
      "execution_count": null,
      "outputs": []
    },
    {
      "cell_type": "code",
      "source": [
        "plt.figure(figsize=(12, 5))\n",
        "plt.subplot(1, 2, 1)\n",
        "plt.plot(\n",
        "    np.arange(len(_.eval_batch_losses)),\n",
        "    _.eval_batch_losses,\n",
        ")\n",
        "plt.xlabel(\"Batch\")\n",
        "plt.ylabel(\"Validation Loss\")\n",
        "plt.title(\"Validation Loss Over Batches\")\n",
        "\n",
        "plt.subplot(1, 2, 2)\n",
        "plt.plot(\n",
        "    np.arange(len(_.eval_batch_accuracies)),\n",
        "    [accuracy * 100 for accuracy in _.eval_batch_accuracies],\n",
        ")\n",
        "plt.xlabel(\"Batch\")\n",
        "plt.ylabel(\"Validation Accuracy (%)\")\n",
        "plt.title(\"Validation Accuracy Over Batches\")\n",
        "\n",
        "plt.tight_layout()\n",
        "plt.show()\n"
      ],
      "metadata": {
        "id": "sHaGRZmkGfKr"
      },
      "execution_count": null,
      "outputs": []
    },
    {
      "cell_type": "code",
      "execution_count": null,
      "metadata": {
        "id": "PEdwJE5uOrIM",
        "colab": {
          "base_uri": "https://localhost:8080/"
        },
        "outputId": "dc4389c5-8f56-45c9-8c01-948efe09c816"
      },
      "outputs": [
        {
          "output_type": "stream",
          "name": "stderr",
          "text": [
            "\n",
            "  0%|          | 0/40 [00:00<?, ?it/s]\u001b[A\n",
            "  2%|▎         | 1/40 [00:05<03:53,  5.99s/it]\u001b[A\n",
            "  5%|▌         | 2/40 [00:08<02:27,  3.88s/it]\u001b[A\n",
            "  8%|▊         | 3/40 [00:10<01:57,  3.18s/it]\u001b[A\n",
            " 10%|█         | 4/40 [00:13<01:42,  2.86s/it]\u001b[A\n",
            " 12%|█▎        | 5/40 [00:15<01:33,  2.68s/it]\u001b[A\n",
            " 15%|█▌        | 6/40 [00:17<01:28,  2.59s/it]\u001b[A\n",
            " 18%|█▊        | 7/40 [00:20<01:23,  2.54s/it]\u001b[A\n",
            " 20%|██        | 8/40 [00:22<01:20,  2.53s/it]\u001b[A\n",
            " 22%|██▎       | 9/40 [00:25<01:17,  2.50s/it]\u001b[A\n",
            " 25%|██▌       | 10/40 [00:27<01:14,  2.48s/it]\u001b[A\n",
            " 28%|██▊       | 11/40 [00:30<01:12,  2.49s/it]\u001b[A\n",
            " 30%|███       | 12/40 [00:32<01:09,  2.48s/it]\u001b[A\n",
            " 32%|███▎      | 13/40 [00:35<01:06,  2.48s/it]\u001b[A\n",
            " 35%|███▌      | 14/40 [00:37<01:04,  2.49s/it]\u001b[A\n",
            " 38%|███▊      | 15/40 [00:40<01:01,  2.47s/it]\u001b[A\n",
            " 40%|████      | 16/40 [00:42<00:59,  2.46s/it]\u001b[A\n",
            " 42%|████▎     | 17/40 [00:44<00:56,  2.45s/it]\u001b[A\n",
            " 45%|████▌     | 18/40 [00:47<00:53,  2.44s/it]\u001b[A\n",
            " 48%|████▊     | 19/40 [00:49<00:50,  2.43s/it]\u001b[A\n",
            " 50%|█████     | 20/40 [00:52<00:48,  2.43s/it]\u001b[A\n",
            " 52%|█████▎    | 21/40 [00:54<00:45,  2.41s/it]\u001b[A\n",
            " 55%|█████▌    | 22/40 [00:56<00:43,  2.40s/it]\u001b[A\n",
            " 57%|█████▊    | 23/40 [00:59<00:40,  2.39s/it]\u001b[A\n",
            " 60%|██████    | 24/40 [01:01<00:38,  2.38s/it]\u001b[A\n",
            " 62%|██████▎   | 25/40 [01:04<00:35,  2.37s/it]\u001b[A\n",
            " 65%|██████▌   | 26/40 [01:06<00:33,  2.37s/it]\u001b[A\n",
            " 68%|██████▊   | 27/40 [01:08<00:30,  2.37s/it]\u001b[A\n",
            " 70%|███████   | 28/40 [01:11<00:28,  2.36s/it]\u001b[A\n",
            " 72%|███████▎  | 29/40 [01:13<00:25,  2.36s/it]\u001b[A\n",
            " 75%|███████▌  | 30/40 [01:15<00:23,  2.36s/it]\u001b[A\n",
            " 78%|███████▊  | 31/40 [01:18<00:21,  2.36s/it]\u001b[A\n",
            " 80%|████████  | 32/40 [01:20<00:18,  2.35s/it]\u001b[A\n",
            " 82%|████████▎ | 33/40 [01:22<00:16,  2.35s/it]\u001b[A\n",
            " 85%|████████▌ | 34/40 [01:25<00:14,  2.35s/it]\u001b[A\n",
            " 88%|████████▊ | 35/40 [01:27<00:11,  2.37s/it]\u001b[A\n",
            " 90%|█████████ | 36/40 [01:29<00:09,  2.36s/it]\u001b[A\n",
            " 92%|█████████▎| 37/40 [01:32<00:07,  2.36s/it]\u001b[A\n",
            " 95%|█████████▌| 38/40 [01:34<00:04,  2.35s/it]\u001b[A\n",
            " 98%|█████████▊| 39/40 [01:37<00:02,  2.35s/it]\u001b[A\n",
            "100%|██████████| 40/40 [01:37<00:00,  2.43s/it]"
          ]
        },
        {
          "output_type": "stream",
          "name": "stdout",
          "text": [
            "Оценка за это задание составит 0.00 баллов\n"
          ]
        },
        {
          "output_type": "stream",
          "name": "stderr",
          "text": [
            "\n"
          ]
        }
      ],
      "source": [
        "accuracy = evaluate_task(giga_model, val_dataloader)\n",
        "print(f\"Оценка за это задание составит {np.clip(10 * (accuracy - 0.5) / 0.34, 0, 10):.2f} баллов\")"
      ]
    },
    {
      "cell_type": "markdown",
      "metadata": {
        "cell_id": 15,
        "id": "pT8vfPSolRVb"
      },
      "source": [
        "# Отчёт об экспериментах\n",
        "\n",
        "текст писать тут (или ссылочку на wandb/любой трекер экспреиментов) для каждого задания, то есть не обязательно именно тут рисовать графики, если вы используете готовые трекеры/мониторинги ваших моделей."
      ]
    },
    {
      "cell_type": "markdown",
      "source": [
        "В ходе выполнения дз помогли улучшить качество модели следующие вещи:\n",
        "\n",
        "-Упрощение модели (много промежуточных полносвязных слоев снижали качество)\n",
        "\n",
        "-Очевидно, подбор таких гиперпараметров, как learning_rate, количество эпох вероятность в dropout, подбор lr_scheduler\n",
        "\n",
        "-Отказ от использования аугментаций данных во втором задании (при этом модель начинает сильнее переобучаться, но качество на валидации также вырастает, также обучение занимает меньше времени)\n",
        "\n",
        "-"
      ],
      "metadata": {
        "id": "x4GMLeWSKDcx"
      }
    }
  ],
  "metadata": {
    "colab": {
      "provenance": [],
      "gpuType": "T4"
    },
    "kernelspec": {
      "display_name": "Python 3",
      "name": "python3"
    },
    "language_info": {
      "codemirror_mode": {
        "name": "ipython",
        "version": 3
      },
      "file_extension": ".py",
      "mimetype": "text/x-python",
      "name": "python",
      "nbconvert_exporter": "python",
      "pygments_lexer": "ipython3",
      "version": "3.8.5"
    },
    "max_cell_id": 35,
    "accelerator": "GPU"
  },
  "nbformat": 4,
  "nbformat_minor": 0
}